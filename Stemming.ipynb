{
 "cells": [
  {
   "cell_type": "code",
   "execution_count": 1,
   "metadata": {},
   "outputs": [],
   "source": [
    "import nltk"
   ]
  },
  {
   "cell_type": "code",
   "execution_count": 2,
   "metadata": {},
   "outputs": [
    {
     "name": "stdout",
     "output_type": "stream",
     "text": [
      "showing info https://raw.githubusercontent.com/nltk/nltk_data/gh-pages/index.xml\n"
     ]
    },
    {
     "data": {
      "text/plain": [
       "True"
      ]
     },
     "execution_count": 2,
     "metadata": {},
     "output_type": "execute_result"
    }
   ],
   "source": [
    "nltk.download()"
   ]
  },
  {
   "cell_type": "code",
   "execution_count": 4,
   "metadata": {},
   "outputs": [],
   "source": [
    "from nltk.stem import PorterStemmer\n",
    "from nltk.corpus import stopwords"
   ]
  },
  {
   "cell_type": "code",
   "execution_count": 5,
   "metadata": {},
   "outputs": [],
   "source": [
    "paragraph = 'Mario Hermoso One of the season’s big surprises. And he was so close to joining Real Sociedad on loan before it began.Hermoso was instrumental in the Spanish champions’ attacking evolution, as his medium-and long-range passing broke lines and advanced the ball into more-dangerous positions. Simeone’s Atlético hasn’t had a left-footed center back who can swiftly carry the ball forward and progress the play into midfield — even into the attacking third. Hermoso averaged nearly 77 touches per 90 minutes and completed 85 percent of his passes — no Atleti defender took more touches, and no center back carried the ball five yards toward goal more frequently, either. Simeone miscast Hermoso during the 2019/20 transition year and played him in a 4-4-2 that was not tailored to his strengths. As a result, Hermoso became arguably the biggest beneficiary from Atlético’s tactical overhaul in 2020/21. The ex-Real Madrid defender enjoyed a sterling season, developing into an elite ball-playing center back who should be playing for Spain at EURO 2020.'"
   ]
  },
  {
   "cell_type": "code",
   "execution_count": 8,
   "metadata": {},
   "outputs": [
    {
     "data": {
      "text/plain": [
       "['Mario Hermoso One of the season’s big surprises.',\n",
       " 'And he was so close to joining Real Sociedad on loan before it began.Hermoso was instrumental in the Spanish champions’ attacking evolution, as his medium-and long-range passing broke lines and advanced the ball into more-dangerous positions.',\n",
       " 'Simeone’s Atlético hasn’t had a left-footed center back who can swiftly carry the ball forward and progress the play into midfield — even into the attacking third.',\n",
       " 'Hermoso averaged nearly 77 touches per 90 minutes and completed 85 percent of his passes — no Atleti defender took more touches, and no center back carried the ball five yards toward goal more frequently, either.',\n",
       " 'Simeone miscast Hermoso during the 2019/20 transition year and played him in a 4-4-2 that was not tailored to his strengths.',\n",
       " 'As a result, Hermoso became arguably the biggest beneficiary from Atlético’s tactical overhaul in 2020/21.',\n",
       " 'The ex-Real Madrid defender enjoyed a sterling season, developing into an elite ball-playing center back who should be playing for Spain at EURO 2020.']"
      ]
     },
     "execution_count": 8,
     "metadata": {},
     "output_type": "execute_result"
    }
   ],
   "source": [
    "sentences = nltk.sent_tokenize(paragraph)\n",
    "sentences"
   ]
  },
  {
   "cell_type": "code",
   "execution_count": 9,
   "metadata": {},
   "outputs": [],
   "source": [
    "stemmer = PorterStemmer()"
   ]
  },
  {
   "cell_type": "code",
   "execution_count": 10,
   "metadata": {},
   "outputs": [],
   "source": [
    "for i in range(len(sentences)):\n",
    "    words = nltk.word_tokenize(sentences[i])\n",
    "    words = [stemmer.stem(word.lower()) for word in words if word.lower() not in set(stopwords.words('english'))]\n",
    "    sentences[i] = ' '.join(words)"
   ]
  },
  {
   "cell_type": "code",
   "execution_count": 11,
   "metadata": {},
   "outputs": [
    {
     "data": {
      "text/plain": [
       "['mario hermoso one season ’ big surpris .',\n",
       " 'close join real sociedad loan began.hermoso instrument spanish champion ’ attack evolut , medium-and long-rang pass broke line advanc ball more-danger posit .',\n",
       " 'simeon ’ atlético ’ left-foot center back swiftli carri ball forward progress play midfield — even attack third .',\n",
       " 'hermoso averag nearli 77 touch per 90 minut complet 85 percent pass — atleti defend took touch , center back carri ball five yard toward goal frequent , either .',\n",
       " 'simeon miscast hermoso 2019/20 transit year play 4-4-2 tailor strength .',\n",
       " 'result , hermoso becam arguabl biggest beneficiari atlético ’ tactic overhaul 2020/21 .',\n",
       " 'ex-real madrid defend enjoy sterl season , develop elit ball-play center back play spain euro 2020 .']"
      ]
     },
     "execution_count": 11,
     "metadata": {},
     "output_type": "execute_result"
    }
   ],
   "source": [
    "sentences"
   ]
  },
  {
   "cell_type": "code",
   "execution_count": null,
   "metadata": {},
   "outputs": [],
   "source": []
  }
 ],
 "metadata": {
  "kernelspec": {
   "display_name": "Python 3",
   "language": "python",
   "name": "python3"
  },
  "language_info": {
   "codemirror_mode": {
    "name": "ipython",
    "version": 3
   },
   "file_extension": ".py",
   "mimetype": "text/x-python",
   "name": "python",
   "nbconvert_exporter": "python",
   "pygments_lexer": "ipython3",
   "version": "3.8.8"
  }
 },
 "nbformat": 4,
 "nbformat_minor": 4
}
