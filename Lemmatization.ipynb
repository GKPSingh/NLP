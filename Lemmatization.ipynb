{
 "cells": [
  {
   "cell_type": "code",
   "execution_count": 1,
   "id": "411ce821",
   "metadata": {},
   "outputs": [],
   "source": [
    "import nltk"
   ]
  },
  {
   "cell_type": "code",
   "execution_count": 2,
   "id": "75642c87",
   "metadata": {},
   "outputs": [
    {
     "name": "stdout",
     "output_type": "stream",
     "text": [
      "showing info https://raw.githubusercontent.com/nltk/nltk_data/gh-pages/index.xml\n"
     ]
    },
    {
     "data": {
      "text/plain": [
       "True"
      ]
     },
     "execution_count": 2,
     "metadata": {},
     "output_type": "execute_result"
    }
   ],
   "source": [
    "nltk.download()"
   ]
  },
  {
   "cell_type": "code",
   "execution_count": 3,
   "id": "078a38d8",
   "metadata": {},
   "outputs": [],
   "source": [
    "from nltk.stem import WordNetLemmatizer\n",
    "from nltk.corpus import stopwords"
   ]
  },
  {
   "cell_type": "code",
   "execution_count": 4,
   "id": "bd8f19cd",
   "metadata": {},
   "outputs": [],
   "source": [
    "paragraph = 'Mario Hermoso One of the season’s big surprises. And he was so close to joining Real Sociedad on loan before it began.Hermoso was instrumental in the Spanish champions’ attacking evolution, as his medium-and long-range passing broke lines and advanced the ball into more-dangerous positions. Simeone’s Atlético hasn’t had a left-footed center back who can swiftly carry the ball forward and progress the play into midfield — even into the attacking third. Hermoso averaged nearly 77 touches per 90 minutes and completed 85 percent of his passes — no Atleti defender took more touches, and no center back carried the ball five yards toward goal more frequently, either. Simeone miscast Hermoso during the 2019/20 transition year and played him in a 4-4-2 that was not tailored to his strengths. As a result, Hermoso became arguably the biggest beneficiary from Atlético’s tactical overhaul in 2020/21. The ex-Real Madrid defender enjoyed a sterling season, developing into an elite ball-playing center back who should be playing for Spain at EURO 2020.'"
   ]
  },
  {
   "cell_type": "code",
   "execution_count": 9,
   "id": "95ea1744",
   "metadata": {},
   "outputs": [],
   "source": [
    "lemmatizer = WordNetLemmatizer()"
   ]
  },
  {
   "cell_type": "code",
   "execution_count": 10,
   "id": "a3cf8c03",
   "metadata": {},
   "outputs": [],
   "source": [
    "sentences = nltk.sent_tokenize(paragraph)"
   ]
  },
  {
   "cell_type": "code",
   "execution_count": 11,
   "id": "c2f05398",
   "metadata": {},
   "outputs": [],
   "source": [
    "for i in range(len(sentences)):\n",
    "    words = nltk.word_tokenize(sentences[i])\n",
    "    words = [lemmatizer.lemmatize(word.lower()) for word in words if word.lower() not in set(stopwords.words('english'))]\n",
    "    sentences[i] = ' '.join(words)"
   ]
  },
  {
   "cell_type": "code",
   "execution_count": 12,
   "id": "3ce47334",
   "metadata": {},
   "outputs": [
    {
     "data": {
      "text/plain": [
       "['mario hermoso one season ’ big surprise .',\n",
       " 'close joining real sociedad loan began.hermoso instrumental spanish champion ’ attacking evolution , medium-and long-range passing broke line advanced ball more-dangerous position .',\n",
       " 'simeone ’ atlético ’ left-footed center back swiftly carry ball forward progress play midfield — even attacking third .',\n",
       " 'hermoso averaged nearly 77 touch per 90 minute completed 85 percent pass — atleti defender took touch , center back carried ball five yard toward goal frequently , either .',\n",
       " 'simeone miscast hermoso 2019/20 transition year played 4-4-2 tailored strength .',\n",
       " 'result , hermoso became arguably biggest beneficiary atlético ’ tactical overhaul 2020/21 .',\n",
       " 'ex-real madrid defender enjoyed sterling season , developing elite ball-playing center back playing spain euro 2020 .']"
      ]
     },
     "execution_count": 12,
     "metadata": {},
     "output_type": "execute_result"
    }
   ],
   "source": [
    "sentences"
   ]
  },
  {
   "cell_type": "code",
   "execution_count": null,
   "id": "2f240f54",
   "metadata": {},
   "outputs": [],
   "source": []
  }
 ],
 "metadata": {
  "kernelspec": {
   "display_name": "Python 3",
   "language": "python",
   "name": "python3"
  },
  "language_info": {
   "codemirror_mode": {
    "name": "ipython",
    "version": 3
   },
   "file_extension": ".py",
   "mimetype": "text/x-python",
   "name": "python",
   "nbconvert_exporter": "python",
   "pygments_lexer": "ipython3",
   "version": "3.8.8"
  }
 },
 "nbformat": 4,
 "nbformat_minor": 5
}
