{
 "cells": [
  {
   "cell_type": "code",
   "execution_count": null,
   "metadata": {},
   "outputs": [],
   "source": []
  },
  {
   "cell_type": "code",
   "execution_count": 1,
   "metadata": {},
   "outputs": [],
   "source": [
    "import nltk"
   ]
  },
  {
   "cell_type": "code",
   "execution_count": 2,
   "metadata": {},
   "outputs": [
    {
     "name": "stdout",
     "output_type": "stream",
     "text": [
      "showing info https://raw.githubusercontent.com/nltk/nltk_data/gh-pages/index.xml\n"
     ]
    },
    {
     "data": {
      "text/plain": [
       "True"
      ]
     },
     "execution_count": 2,
     "metadata": {},
     "output_type": "execute_result"
    }
   ],
   "source": [
    "nltk.download()"
   ]
  },
  {
   "cell_type": "code",
   "execution_count": 3,
   "metadata": {},
   "outputs": [],
   "source": [
    "paragraph = 'Mario Hermoso One of the season’s big surprises. And he was so close to joining Real Sociedad on loan before it began.Hermoso was instrumental in the Spanish champions’ attacking evolution, as his medium-and long-range passing broke lines and advanced the ball into more-dangerous positions. Simeone’s Atlético hasn’t had a left-footed center back who can swiftly carry the ball forward and progress the play into midfield — even into the attacking third. Hermoso averaged nearly 77 touches per 90 minutes and completed 85 percent of his passes — no Atleti defender took more touches, and no center back carried the ball five yards toward goal more frequently, either. Simeone miscast Hermoso during the 2019/20 transition year and played him in a 4-4-2 that was not tailored to his strengths. As a result, Hermoso became arguably the biggest beneficiary from Atlético’s tactical overhaul in 2020/21. The ex-Real Madrid defender enjoyed a sterling season, developing into an elite ball-playing center back who should be playing for Spain at EURO 2020.'"
   ]
  },
  {
   "cell_type": "code",
   "execution_count": 4,
   "metadata": {},
   "outputs": [
    {
     "data": {
      "text/plain": [
       "['Mario Hermoso One of the season’s big surprises.',\n",
       " 'And he was so close to joining Real Sociedad on loan before it began.Hermoso was instrumental in the Spanish champions’ attacking evolution, as his medium-and long-range passing broke lines and advanced the ball into more-dangerous positions.',\n",
       " 'Simeone’s Atlético hasn’t had a left-footed center back who can swiftly carry the ball forward and progress the play into midfield — even into the attacking third.',\n",
       " 'Hermoso averaged nearly 77 touches per 90 minutes and completed 85 percent of his passes — no Atleti defender took more touches, and no center back carried the ball five yards toward goal more frequently, either.',\n",
       " 'Simeone miscast Hermoso during the 2019/20 transition year and played him in a 4-4-2 that was not tailored to his strengths.',\n",
       " 'As a result, Hermoso became arguably the biggest beneficiary from Atlético’s tactical overhaul in 2020/21.',\n",
       " 'The ex-Real Madrid defender enjoyed a sterling season, developing into an elite ball-playing center back who should be playing for Spain at EURO 2020.']"
      ]
     },
     "execution_count": 4,
     "metadata": {},
     "output_type": "execute_result"
    }
   ],
   "source": [
    "# Tokenizing Sentence\n",
    "sentences = nltk.sent_tokenize(paragraph)\n",
    "sentences"
   ]
  },
  {
   "cell_type": "code",
   "execution_count": 5,
   "metadata": {},
   "outputs": [],
   "source": [
    "## Tokenize words\n",
    "words = nltk.word_tokenize(paragraph)"
   ]
  },
  {
   "cell_type": "code",
   "execution_count": 6,
   "metadata": {},
   "outputs": [
    {
     "data": {
      "text/plain": [
       "['Mario',\n",
       " 'Hermoso',\n",
       " 'One',\n",
       " 'of',\n",
       " 'the',\n",
       " 'season',\n",
       " '’',\n",
       " 's',\n",
       " 'big',\n",
       " 'surprises',\n",
       " '.',\n",
       " 'And',\n",
       " 'he',\n",
       " 'was',\n",
       " 'so',\n",
       " 'close',\n",
       " 'to',\n",
       " 'joining',\n",
       " 'Real',\n",
       " 'Sociedad',\n",
       " 'on',\n",
       " 'loan',\n",
       " 'before',\n",
       " 'it',\n",
       " 'began.Hermoso',\n",
       " 'was',\n",
       " 'instrumental',\n",
       " 'in',\n",
       " 'the',\n",
       " 'Spanish',\n",
       " 'champions',\n",
       " '’',\n",
       " 'attacking',\n",
       " 'evolution',\n",
       " ',',\n",
       " 'as',\n",
       " 'his',\n",
       " 'medium-and',\n",
       " 'long-range',\n",
       " 'passing',\n",
       " 'broke',\n",
       " 'lines',\n",
       " 'and',\n",
       " 'advanced',\n",
       " 'the',\n",
       " 'ball',\n",
       " 'into',\n",
       " 'more-dangerous',\n",
       " 'positions',\n",
       " '.',\n",
       " 'Simeone',\n",
       " '’',\n",
       " 's',\n",
       " 'Atlético',\n",
       " 'hasn',\n",
       " '’',\n",
       " 't',\n",
       " 'had',\n",
       " 'a',\n",
       " 'left-footed',\n",
       " 'center',\n",
       " 'back',\n",
       " 'who',\n",
       " 'can',\n",
       " 'swiftly',\n",
       " 'carry',\n",
       " 'the',\n",
       " 'ball',\n",
       " 'forward',\n",
       " 'and',\n",
       " 'progress',\n",
       " 'the',\n",
       " 'play',\n",
       " 'into',\n",
       " 'midfield',\n",
       " '—',\n",
       " 'even',\n",
       " 'into',\n",
       " 'the',\n",
       " 'attacking',\n",
       " 'third',\n",
       " '.',\n",
       " 'Hermoso',\n",
       " 'averaged',\n",
       " 'nearly',\n",
       " '77',\n",
       " 'touches',\n",
       " 'per',\n",
       " '90',\n",
       " 'minutes',\n",
       " 'and',\n",
       " 'completed',\n",
       " '85',\n",
       " 'percent',\n",
       " 'of',\n",
       " 'his',\n",
       " 'passes',\n",
       " '—',\n",
       " 'no',\n",
       " 'Atleti',\n",
       " 'defender',\n",
       " 'took',\n",
       " 'more',\n",
       " 'touches',\n",
       " ',',\n",
       " 'and',\n",
       " 'no',\n",
       " 'center',\n",
       " 'back',\n",
       " 'carried',\n",
       " 'the',\n",
       " 'ball',\n",
       " 'five',\n",
       " 'yards',\n",
       " 'toward',\n",
       " 'goal',\n",
       " 'more',\n",
       " 'frequently',\n",
       " ',',\n",
       " 'either',\n",
       " '.',\n",
       " 'Simeone',\n",
       " 'miscast',\n",
       " 'Hermoso',\n",
       " 'during',\n",
       " 'the',\n",
       " '2019/20',\n",
       " 'transition',\n",
       " 'year',\n",
       " 'and',\n",
       " 'played',\n",
       " 'him',\n",
       " 'in',\n",
       " 'a',\n",
       " '4-4-2',\n",
       " 'that',\n",
       " 'was',\n",
       " 'not',\n",
       " 'tailored',\n",
       " 'to',\n",
       " 'his',\n",
       " 'strengths',\n",
       " '.',\n",
       " 'As',\n",
       " 'a',\n",
       " 'result',\n",
       " ',',\n",
       " 'Hermoso',\n",
       " 'became',\n",
       " 'arguably',\n",
       " 'the',\n",
       " 'biggest',\n",
       " 'beneficiary',\n",
       " 'from',\n",
       " 'Atlético',\n",
       " '’',\n",
       " 's',\n",
       " 'tactical',\n",
       " 'overhaul',\n",
       " 'in',\n",
       " '2020/21',\n",
       " '.',\n",
       " 'The',\n",
       " 'ex-Real',\n",
       " 'Madrid',\n",
       " 'defender',\n",
       " 'enjoyed',\n",
       " 'a',\n",
       " 'sterling',\n",
       " 'season',\n",
       " ',',\n",
       " 'developing',\n",
       " 'into',\n",
       " 'an',\n",
       " 'elite',\n",
       " 'ball-playing',\n",
       " 'center',\n",
       " 'back',\n",
       " 'who',\n",
       " 'should',\n",
       " 'be',\n",
       " 'playing',\n",
       " 'for',\n",
       " 'Spain',\n",
       " 'at',\n",
       " 'EURO',\n",
       " '2020',\n",
       " '.']"
      ]
     },
     "execution_count": 6,
     "metadata": {},
     "output_type": "execute_result"
    }
   ],
   "source": [
    "words"
   ]
  },
  {
   "cell_type": "markdown",
   "metadata": {},
   "source": [
    "### Stemming"
   ]
  },
  {
   "cell_type": "code",
   "execution_count": 7,
   "metadata": {},
   "outputs": [],
   "source": [
    "from nltk.stem import PorterStemmer\n",
    "from nltk.corpus import stopwords"
   ]
  },
  {
   "cell_type": "code",
   "execution_count": 8,
   "metadata": {},
   "outputs": [],
   "source": [
    "sentences = nltk.sent_tokenize(paragraph)"
   ]
  },
  {
   "cell_type": "code",
   "execution_count": 9,
   "metadata": {},
   "outputs": [],
   "source": [
    "stemmer = PorterStemmer()"
   ]
  },
  {
   "cell_type": "code",
   "execution_count": 26,
   "metadata": {},
   "outputs": [],
   "source": [
    "for i in range(len(sentences)):\n",
    "    words = nltk.word_tokenize(sentences[i])\n",
    "    words = [stemmer.stem(word.lower()) for word in words if word.lower() not in set(stopwords.words('english'))]\n",
    "    sentences[i] = '  '.join(words)\n",
    "    "
   ]
  },
  {
   "cell_type": "code",
   "execution_count": 27,
   "metadata": {},
   "outputs": [
    {
     "data": {
      "text/plain": [
       "['mariohermosooneseason  ’  bigsurpri  .',\n",
       " 'closejoinrealsociedadloanbegan.hermosoinstrumentspanishchampion  ’  attackevolut  ,  medium-andlong-rangpassbrokelineadvancballmore-dangerposit  .',\n",
       " 'simeon  ’  atlético  ’  left-footcenterbackswiftlicarriballforwardprogressplaymidfield—evenattackthird  .',\n",
       " 'hermosoaveragnearli77touchper90minutcomplet85percentpass—atletidefendtooktouch  ,  centerbackcarriballfiveyardtowardgoalfrequ  ,  either  .',\n",
       " 'simeonmiscasthermoso2019/20transityearplay4-4-2tailorstrength  .',\n",
       " 'result  ,  hermosobecamarguablbiggestbeneficiariatlético  ’  tacticoverhaul2020/21  .',\n",
       " 'ex-realmadriddefendenjoysterlseason  ,  developelitball-playcenterbackplayspaineuro2020  .']"
      ]
     },
     "execution_count": 27,
     "metadata": {},
     "output_type": "execute_result"
    }
   ],
   "source": [
    "sentences"
   ]
  },
  {
   "cell_type": "markdown",
   "metadata": {},
   "source": [
    "### Lemmatization"
   ]
  },
  {
   "cell_type": "code",
   "execution_count": 15,
   "metadata": {},
   "outputs": [],
   "source": [
    "from nltk.stem import WordNetLemmatizer\n",
    "from nltk.corpus import stopwords"
   ]
  },
  {
   "cell_type": "code",
   "execution_count": 21,
   "metadata": {},
   "outputs": [],
   "source": [
    "paragraph = 'Mario Hermoso One of the season’s big surprises. And he was so close to joining Real Sociedad on loan before it began.Hermoso was instrumental in the Spanish champions’ attacking evolution, as his medium-and long-range passing broke lines and advanced the ball into more-dangerous positions. Simeone’s Atlético hasn’t had a left-footed center back who can swiftly carry the ball forward and progress the play into midfield — even into the attacking third. Hermoso averaged nearly 77 touches per 90 minutes and completed 85 percent of his passes — no Atleti defender took more touches, and no center back carried the ball five yards toward goal more frequently, either. Simeone miscast Hermoso during the 2019/20 transition year and played him in a 4-4-2 that was not tailored to his strengths. As a result, Hermoso became arguably the biggest beneficiary from Atlético’s tactical overhaul in 2020/21. The ex-Real Madrid defender enjoyed a sterling season, developing into an elite ball-playing center back who should be playing for Spain at EURO 2020.'"
   ]
  },
  {
   "cell_type": "code",
   "execution_count": 22,
   "metadata": {},
   "outputs": [],
   "source": [
    "sentence = nltk.sent_tokenize(paragraph)"
   ]
  },
  {
   "cell_type": "code",
   "execution_count": 23,
   "metadata": {},
   "outputs": [],
   "source": [
    "lemmatizer = WordNetLemmatizer()"
   ]
  },
  {
   "cell_type": "code",
   "execution_count": 24,
   "metadata": {},
   "outputs": [],
   "source": [
    "for i in range(len(sentence)):\n",
    "    words = nltk.word_tokenize(sentence[i])\n",
    "    words = [lemmatizer.lemmatize(word.lower()) for word in words if word.lower() not in set(stopwords.words('english'))]\n",
    "    sentence[i] = ' '.join(words)"
   ]
  },
  {
   "cell_type": "code",
   "execution_count": 25,
   "metadata": {},
   "outputs": [
    {
     "data": {
      "text/plain": [
       "['mario hermoso one season ’ big surprise .',\n",
       " 'close joining real sociedad loan began.hermoso instrumental spanish champion ’ attacking evolution , medium-and long-range passing broke line advanced ball more-dangerous position .',\n",
       " 'simeone ’ atlético ’ left-footed center back swiftly carry ball forward progress play midfield — even attacking third .',\n",
       " 'hermoso averaged nearly 77 touch per 90 minute completed 85 percent pass — atleti defender took touch , center back carried ball five yard toward goal frequently , either .',\n",
       " 'simeone miscast hermoso 2019/20 transition year played 4-4-2 tailored strength .',\n",
       " 'result , hermoso became arguably biggest beneficiary atlético ’ tactical overhaul 2020/21 .',\n",
       " 'ex-real madrid defender enjoyed sterling season , developing elite ball-playing center back playing spain euro 2020 .']"
      ]
     },
     "execution_count": 25,
     "metadata": {},
     "output_type": "execute_result"
    }
   ],
   "source": [
    "sentence"
   ]
  },
  {
   "cell_type": "code",
   "execution_count": null,
   "metadata": {},
   "outputs": [],
   "source": []
  }
 ],
 "metadata": {
  "kernelspec": {
   "display_name": "Python 3",
   "language": "python",
   "name": "python3"
  },
  "language_info": {
   "codemirror_mode": {
    "name": "ipython",
    "version": 3
   },
   "file_extension": ".py",
   "mimetype": "text/x-python",
   "name": "python",
   "nbconvert_exporter": "python",
   "pygments_lexer": "ipython3",
   "version": "3.8.5"
  }
 },
 "nbformat": 4,
 "nbformat_minor": 4
}
