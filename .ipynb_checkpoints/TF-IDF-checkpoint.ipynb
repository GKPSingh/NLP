{
 "cells": [
  {
   "cell_type": "code",
   "execution_count": 1,
   "id": "5fef7365",
   "metadata": {},
   "outputs": [],
   "source": [
    "import nltk\n",
    "import re"
   ]
  },
  {
   "cell_type": "code",
   "execution_count": 2,
   "id": "5535a0cd",
   "metadata": {},
   "outputs": [],
   "source": [
    "paragraph = 'Mario Hermoso One of the season’s big surprises. And he was so close to joining Real Sociedad on loan before it began.Hermoso was instrumental in the Spanish champions’ attacking evolution, as his medium-and long-range passing broke lines and advanced the ball into more-dangerous positions. Simeone’s Atlético hasn’t had a left-footed center back who can swiftly carry the ball forward and progress the play into midfield — even into the attacking third. Hermoso averaged nearly 77 touches per 90 minutes and completed 85 percent of his passes — no Atleti defender took more touches, and no center back carried the ball five yards toward goal more frequently, either. Simeone miscast Hermoso during the 2019/20 transition year and played him in a 4-4-2 that was not tailored to his strengths. As a result, Hermoso became arguably the biggest beneficiary from Atlético’s tactical overhaul in 2020/21. The ex-Real Madrid defender enjoyed a sterling season, developing into an elite ball-playing center back who should be playing for Spain at EURO 2020.'"
   ]
  },
  {
   "cell_type": "code",
   "execution_count": 3,
   "id": "1c9c9252",
   "metadata": {},
   "outputs": [],
   "source": [
    "from nltk.stem import WordNetLemmatizer\n",
    "from nltk.corpus import stopwords"
   ]
  },
  {
   "cell_type": "code",
   "execution_count": 4,
   "id": "e84bfd46",
   "metadata": {},
   "outputs": [],
   "source": [
    "wordnet  = WordNetLemmatizer()"
   ]
  },
  {
   "cell_type": "code",
   "execution_count": 5,
   "id": "b3283f14",
   "metadata": {},
   "outputs": [],
   "source": [
    "sentences = nltk.sent_tokenize(paragraph)"
   ]
  },
  {
   "cell_type": "code",
   "execution_count": 12,
   "id": "a71500cd",
   "metadata": {},
   "outputs": [
    {
     "data": {
      "text/plain": [
       "['Mario Hermoso One of the season’s big surprises.',\n",
       " 'And he was so close to joining Real Sociedad on loan before it began.Hermoso was instrumental in the Spanish champions’ attacking evolution, as his medium-and long-range passing broke lines and advanced the ball into more-dangerous positions.',\n",
       " 'Simeone’s Atlético hasn’t had a left-footed center back who can swiftly carry the ball forward and progress the play into midfield — even into the attacking third.',\n",
       " 'Hermoso averaged nearly 77 touches per 90 minutes and completed 85 percent of his passes — no Atleti defender took more touches, and no center back carried the ball five yards toward goal more frequently, either.',\n",
       " 'Simeone miscast Hermoso during the 2019/20 transition year and played him in a 4-4-2 that was not tailored to his strengths.',\n",
       " 'As a result, Hermoso became arguably the biggest beneficiary from Atlético’s tactical overhaul in 2020/21.',\n",
       " 'The ex-Real Madrid defender enjoyed a sterling season, developing into an elite ball-playing center back who should be playing for Spain at EURO 2020.']"
      ]
     },
     "execution_count": 12,
     "metadata": {},
     "output_type": "execute_result"
    }
   ],
   "source": [
    "sentences"
   ]
  },
  {
   "cell_type": "code",
   "execution_count": 6,
   "id": "f12115fa",
   "metadata": {},
   "outputs": [],
   "source": [
    "corpus = []"
   ]
  },
  {
   "cell_type": "code",
   "execution_count": 13,
   "id": "257472f9",
   "metadata": {},
   "outputs": [],
   "source": [
    "for i in range(len(sentences)):\n",
    "    review = re.sub('[a-zA-z]', ' ', sentences[i])\n",
    "    review = review.lower()\n",
    "    review = review.split()\n",
    "    review = [wordnet.lemmatize(word) for word in review if not word in set(stopwords.words('english'))]\n",
    "    review = ' '.join(review)\n",
    "    corpus.append(review)"
   ]
  },
  {
   "cell_type": "code",
   "execution_count": 14,
   "id": "41c446be",
   "metadata": {},
   "outputs": [
    {
     "data": {
      "text/plain": [
       "['’ .',\n",
       " '. ’ , - - - .',\n",
       " '’ é ’ - — .',\n",
       " '77 90 85 — , , .',\n",
       " '2019/20 4-4-2 .',\n",
       " ', é ’ 2020/21.',\n",
       " '- , - 2020.',\n",
       " '’ .',\n",
       " '. ’ , - - - .',\n",
       " '’ é ’ - — .',\n",
       " '77 90 85 — , , .',\n",
       " '2019/20 4-4-2 .',\n",
       " ', é ’ 2020/21.',\n",
       " '- , - 2020.']"
      ]
     },
     "execution_count": 14,
     "metadata": {},
     "output_type": "execute_result"
    }
   ],
   "source": [
    "corpus"
   ]
  },
  {
   "cell_type": "code",
   "execution_count": 15,
   "id": "979024e1",
   "metadata": {},
   "outputs": [],
   "source": [
    "from sklearn.feature_extraction.text import TfidfVectorizer\n",
    "tfv = TfidfVectorizer()\n",
    "X = tfv.fit_transform(corpus).toarray()"
   ]
  },
  {
   "cell_type": "code",
   "execution_count": 16,
   "id": "1d32f7c5",
   "metadata": {},
   "outputs": [
    {
     "data": {
      "text/plain": [
       "array([[0.        , 0.        , 0.        , 0.        , 0.        ,\n",
       "        0.        , 0.        ],\n",
       "       [0.        , 0.        , 0.        , 0.        , 0.        ,\n",
       "        0.        , 0.        ],\n",
       "       [0.        , 0.        , 0.        , 0.        , 0.        ,\n",
       "        0.        , 0.        ],\n",
       "       [0.        , 0.        , 0.        , 0.        , 0.57735027,\n",
       "        0.57735027, 0.57735027],\n",
       "       [0.70710678, 0.70710678, 0.        , 0.        , 0.        ,\n",
       "        0.        , 0.        ],\n",
       "       [0.        , 0.        , 0.62670725, 0.77925478, 0.        ,\n",
       "        0.        , 0.        ],\n",
       "       [0.        , 0.        , 1.        , 0.        , 0.        ,\n",
       "        0.        , 0.        ],\n",
       "       [0.        , 0.        , 0.        , 0.        , 0.        ,\n",
       "        0.        , 0.        ],\n",
       "       [0.        , 0.        , 0.        , 0.        , 0.        ,\n",
       "        0.        , 0.        ],\n",
       "       [0.        , 0.        , 0.        , 0.        , 0.        ,\n",
       "        0.        , 0.        ],\n",
       "       [0.        , 0.        , 0.        , 0.        , 0.57735027,\n",
       "        0.57735027, 0.57735027],\n",
       "       [0.70710678, 0.70710678, 0.        , 0.        , 0.        ,\n",
       "        0.        , 0.        ],\n",
       "       [0.        , 0.        , 0.62670725, 0.77925478, 0.        ,\n",
       "        0.        , 0.        ],\n",
       "       [0.        , 0.        , 1.        , 0.        , 0.        ,\n",
       "        0.        , 0.        ]])"
      ]
     },
     "execution_count": 16,
     "metadata": {},
     "output_type": "execute_result"
    }
   ],
   "source": [
    "X"
   ]
  },
  {
   "cell_type": "code",
   "execution_count": 17,
   "id": "f58f8503",
   "metadata": {},
   "outputs": [
    {
     "data": {
      "text/html": [
       "<div>\n",
       "<style scoped>\n",
       "    .dataframe tbody tr th:only-of-type {\n",
       "        vertical-align: middle;\n",
       "    }\n",
       "\n",
       "    .dataframe tbody tr th {\n",
       "        vertical-align: top;\n",
       "    }\n",
       "\n",
       "    .dataframe thead th {\n",
       "        text-align: right;\n",
       "    }\n",
       "</style>\n",
       "<table border=\"1\" class=\"dataframe\">\n",
       "  <thead>\n",
       "    <tr style=\"text-align: right;\">\n",
       "      <th></th>\n",
       "      <th>0</th>\n",
       "      <th>1</th>\n",
       "      <th>2</th>\n",
       "      <th>3</th>\n",
       "      <th>4</th>\n",
       "      <th>5</th>\n",
       "      <th>6</th>\n",
       "    </tr>\n",
       "  </thead>\n",
       "  <tbody>\n",
       "    <tr>\n",
       "      <th>0</th>\n",
       "      <td>0.000000</td>\n",
       "      <td>0.000000</td>\n",
       "      <td>0.000000</td>\n",
       "      <td>0.000000</td>\n",
       "      <td>0.00000</td>\n",
       "      <td>0.00000</td>\n",
       "      <td>0.00000</td>\n",
       "    </tr>\n",
       "    <tr>\n",
       "      <th>1</th>\n",
       "      <td>0.000000</td>\n",
       "      <td>0.000000</td>\n",
       "      <td>0.000000</td>\n",
       "      <td>0.000000</td>\n",
       "      <td>0.00000</td>\n",
       "      <td>0.00000</td>\n",
       "      <td>0.00000</td>\n",
       "    </tr>\n",
       "    <tr>\n",
       "      <th>2</th>\n",
       "      <td>0.000000</td>\n",
       "      <td>0.000000</td>\n",
       "      <td>0.000000</td>\n",
       "      <td>0.000000</td>\n",
       "      <td>0.00000</td>\n",
       "      <td>0.00000</td>\n",
       "      <td>0.00000</td>\n",
       "    </tr>\n",
       "    <tr>\n",
       "      <th>3</th>\n",
       "      <td>0.000000</td>\n",
       "      <td>0.000000</td>\n",
       "      <td>0.000000</td>\n",
       "      <td>0.000000</td>\n",
       "      <td>0.57735</td>\n",
       "      <td>0.57735</td>\n",
       "      <td>0.57735</td>\n",
       "    </tr>\n",
       "    <tr>\n",
       "      <th>4</th>\n",
       "      <td>0.707107</td>\n",
       "      <td>0.707107</td>\n",
       "      <td>0.000000</td>\n",
       "      <td>0.000000</td>\n",
       "      <td>0.00000</td>\n",
       "      <td>0.00000</td>\n",
       "      <td>0.00000</td>\n",
       "    </tr>\n",
       "    <tr>\n",
       "      <th>5</th>\n",
       "      <td>0.000000</td>\n",
       "      <td>0.000000</td>\n",
       "      <td>0.626707</td>\n",
       "      <td>0.779255</td>\n",
       "      <td>0.00000</td>\n",
       "      <td>0.00000</td>\n",
       "      <td>0.00000</td>\n",
       "    </tr>\n",
       "    <tr>\n",
       "      <th>6</th>\n",
       "      <td>0.000000</td>\n",
       "      <td>0.000000</td>\n",
       "      <td>1.000000</td>\n",
       "      <td>0.000000</td>\n",
       "      <td>0.00000</td>\n",
       "      <td>0.00000</td>\n",
       "      <td>0.00000</td>\n",
       "    </tr>\n",
       "    <tr>\n",
       "      <th>7</th>\n",
       "      <td>0.000000</td>\n",
       "      <td>0.000000</td>\n",
       "      <td>0.000000</td>\n",
       "      <td>0.000000</td>\n",
       "      <td>0.00000</td>\n",
       "      <td>0.00000</td>\n",
       "      <td>0.00000</td>\n",
       "    </tr>\n",
       "    <tr>\n",
       "      <th>8</th>\n",
       "      <td>0.000000</td>\n",
       "      <td>0.000000</td>\n",
       "      <td>0.000000</td>\n",
       "      <td>0.000000</td>\n",
       "      <td>0.00000</td>\n",
       "      <td>0.00000</td>\n",
       "      <td>0.00000</td>\n",
       "    </tr>\n",
       "    <tr>\n",
       "      <th>9</th>\n",
       "      <td>0.000000</td>\n",
       "      <td>0.000000</td>\n",
       "      <td>0.000000</td>\n",
       "      <td>0.000000</td>\n",
       "      <td>0.00000</td>\n",
       "      <td>0.00000</td>\n",
       "      <td>0.00000</td>\n",
       "    </tr>\n",
       "    <tr>\n",
       "      <th>10</th>\n",
       "      <td>0.000000</td>\n",
       "      <td>0.000000</td>\n",
       "      <td>0.000000</td>\n",
       "      <td>0.000000</td>\n",
       "      <td>0.57735</td>\n",
       "      <td>0.57735</td>\n",
       "      <td>0.57735</td>\n",
       "    </tr>\n",
       "    <tr>\n",
       "      <th>11</th>\n",
       "      <td>0.707107</td>\n",
       "      <td>0.707107</td>\n",
       "      <td>0.000000</td>\n",
       "      <td>0.000000</td>\n",
       "      <td>0.00000</td>\n",
       "      <td>0.00000</td>\n",
       "      <td>0.00000</td>\n",
       "    </tr>\n",
       "    <tr>\n",
       "      <th>12</th>\n",
       "      <td>0.000000</td>\n",
       "      <td>0.000000</td>\n",
       "      <td>0.626707</td>\n",
       "      <td>0.779255</td>\n",
       "      <td>0.00000</td>\n",
       "      <td>0.00000</td>\n",
       "      <td>0.00000</td>\n",
       "    </tr>\n",
       "    <tr>\n",
       "      <th>13</th>\n",
       "      <td>0.000000</td>\n",
       "      <td>0.000000</td>\n",
       "      <td>1.000000</td>\n",
       "      <td>0.000000</td>\n",
       "      <td>0.00000</td>\n",
       "      <td>0.00000</td>\n",
       "      <td>0.00000</td>\n",
       "    </tr>\n",
       "  </tbody>\n",
       "</table>\n",
       "</div>"
      ],
      "text/plain": [
       "           0         1         2         3        4        5        6\n",
       "0   0.000000  0.000000  0.000000  0.000000  0.00000  0.00000  0.00000\n",
       "1   0.000000  0.000000  0.000000  0.000000  0.00000  0.00000  0.00000\n",
       "2   0.000000  0.000000  0.000000  0.000000  0.00000  0.00000  0.00000\n",
       "3   0.000000  0.000000  0.000000  0.000000  0.57735  0.57735  0.57735\n",
       "4   0.707107  0.707107  0.000000  0.000000  0.00000  0.00000  0.00000\n",
       "5   0.000000  0.000000  0.626707  0.779255  0.00000  0.00000  0.00000\n",
       "6   0.000000  0.000000  1.000000  0.000000  0.00000  0.00000  0.00000\n",
       "7   0.000000  0.000000  0.000000  0.000000  0.00000  0.00000  0.00000\n",
       "8   0.000000  0.000000  0.000000  0.000000  0.00000  0.00000  0.00000\n",
       "9   0.000000  0.000000  0.000000  0.000000  0.00000  0.00000  0.00000\n",
       "10  0.000000  0.000000  0.000000  0.000000  0.57735  0.57735  0.57735\n",
       "11  0.707107  0.707107  0.000000  0.000000  0.00000  0.00000  0.00000\n",
       "12  0.000000  0.000000  0.626707  0.779255  0.00000  0.00000  0.00000\n",
       "13  0.000000  0.000000  1.000000  0.000000  0.00000  0.00000  0.00000"
      ]
     },
     "execution_count": 17,
     "metadata": {},
     "output_type": "execute_result"
    }
   ],
   "source": [
    "import pandas as pd\n",
    "pd.DataFrame(X)"
   ]
  },
  {
   "cell_type": "code",
   "execution_count": null,
   "id": "7c14252b",
   "metadata": {},
   "outputs": [],
   "source": []
  }
 ],
 "metadata": {
  "kernelspec": {
   "display_name": "Python 3",
   "language": "python",
   "name": "python3"
  },
  "language_info": {
   "codemirror_mode": {
    "name": "ipython",
    "version": 3
   },
   "file_extension": ".py",
   "mimetype": "text/x-python",
   "name": "python",
   "nbconvert_exporter": "python",
   "pygments_lexer": "ipython3",
   "version": "3.8.8"
  }
 },
 "nbformat": 4,
 "nbformat_minor": 5
}
